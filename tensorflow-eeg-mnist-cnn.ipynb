{
 "cells": [
  {
   "cell_type": "markdown",
   "metadata": {},
   "source": [
    "Convolutional Neural Networks using TensorFlow 2.x Keras API. EEG for MNIST dataset of handwritten digits 0-9. Aim: use deep learning to predict which digit was shown.\n",
    "\n",
    "Preliminary aim: use Sequential CNN to predict EEG source optrode (this code).\n",
    "\n",
    "Change the accelerator from ```None``` to ```GPU```?"
   ]
  },
  {
   "cell_type": "code",
   "execution_count": 755,
   "metadata": {},
   "outputs": [
    {
     "name": "stdout",
     "output_type": "stream",
     "text": [
      "2.5.0\n"
     ]
    }
   ],
   "source": [
    "import tensorflow as tf\n",
    "import seaborn as sns\n",
    "import numpy as np\n",
    "import pandas as pd\n",
    "import matplotlib.pyplot as plt\n",
    "import matplotlib.image as mpimg\n",
    "\n",
    "import random\n",
    "from scipy import signal\n",
    "\n",
    "print(tf.__version__)"
   ]
  },
  {
   "cell_type": "markdown",
   "metadata": {},
   "source": [
    "# Data Preprocessing"
   ]
  },
  {
   "cell_type": "code",
   "execution_count": 756,
   "metadata": {},
   "outputs": [],
   "source": [
    "# load EEG data\n",
    "\n",
    "with open('data/EP1_01.txt') as f:\n",
    "    lines = f.readlines()"
   ]
  },
  {
   "cell_type": "code",
   "execution_count": 757,
   "metadata": {},
   "outputs": [],
   "source": [
    "x_train=[]\n",
    "y_train=[]\n",
    "\n",
    "x_test=[]\n",
    "y_test=[]\n",
    "\n",
    "notch_filter=0\n",
    "band_pass=0\n",
    "mean_center=1\n",
    "\n",
    "not_number_count=0\n",
    "number_count=np.zeros(11)\n",
    "    \n",
    "optrode_to_number_dict = { 'AF3':1, 'F7':2, 'F3':3, 'FC5':4, 'T7':5, 'P7':6, 'O1':7, 'O2':8, 'P8':9, 'T8':10} \n",
    "                           # 11:“FC6”, 12:“F4”, 13:“F8”, 14:“AF4”}\n",
    "  \n",
    "for ii in range(0,200000):\n",
    "    #print(lines[0], \"\\n\")\n",
    "\n",
    "    fields = lines[ii].split(\"\\t\")\n",
    "    header = fields[0:5]\n",
    "\n",
    "    #digit= float(header[4])\n",
    "    opt = header[3]\n",
    "    \n",
    "    keys=optrode_to_number_dict.keys()\n",
    "    if opt not in keys:\n",
    "        continue\n",
    "        \n",
    "    if opt not in ['P7', 'P8']: #['T7', 'P7', 'P8', 'T8']:\n",
    "        continue\n",
    "    \n",
    "    digit = optrode_to_number_dict[opt];   # not really digit, just optrode numer\n",
    "        \n",
    "    if digit < 0:\n",
    "        not_number_count += 1\n",
    "        continue\n",
    "    else:\n",
    "        number_count[int(digit)] += 1\n",
    "        \n",
    "    \n",
    "    #print(header,'\\n')\n",
    "    eeg=fields[6:]\n",
    "    eeg=eeg[0]\n",
    "        \n",
    "    eeg= np.fromstring(eeg, dtype=float, sep=',')\n",
    "    \n",
    "    if len(eeg) < 250:\n",
    "        continue\n",
    "       \n",
    "    eeg=eeg[0:250]\n",
    "    #eeg=np.around(eeg, decimals=0)\n",
    "    \n",
    "    \n",
    "    if notch_filter:    \n",
    "        samp_freq = 128       # Sample frequency (Hz)\n",
    "        notch_freq = 50.0     # Frequency to be removed from signal (Hz)\n",
    "        quality_factor = 20.0 # Quality factor\n",
    "        # Design a notch filter using signal.iirnotch\n",
    "        b_notch, a_notch = signal.iirnotch(notch_freq, quality_factor, samp_freq)\n",
    "        \n",
    "        # Compute magnitude response of the designed filter\n",
    "        freq, h = signal.freqz(b_notch, a_notch, fs=samp_freq)\n",
    "    \n",
    "        # Apply notch filter to the noisy signal using signal.filtfilt\n",
    "        eeg = signal.filtfilt(b_notch, a_notch, eeg)\n",
    "        \n",
    "    if band_pass:\n",
    "        fs=128\n",
    "        lo_fc = 3  # Cut-off frequency of the filter\n",
    "        hi_fc = 30\n",
    "        lo_w = lo_fc / (fs/2) # Normalize the frequency by the Nyquist frequency\n",
    "        hi_w = hi_fc / (fs/2)\n",
    "        b, a = signal.butter(2, [lo_w, hi_w], 'band', analog=False)\n",
    "        eeg = signal.filtfilt(b, a, eeg)        \n",
    "    if mean_center:\n",
    "        eeg = eeg - (sum(eeg)/len(eeg))\n",
    "\n",
    "    \n",
    "    if random.random() < 0.90:\n",
    "        x_train.append(eeg)\n",
    "        y_train.append(int(digit))\n",
    "    else:\n",
    "        x_test.append(eeg)\n",
    "#         one_hot = np.zeros(10)  # done below\n",
    "#         one_hot[int(digit)]=1\n",
    "        y_test.append(int(digit))  "
   ]
  },
  {
   "cell_type": "code",
   "execution_count": 758,
   "metadata": {},
   "outputs": [],
   "source": [
    "# keys=optrode_to_number_dict.keys()\n",
    "# 'P7' in keys"
   ]
  },
  {
   "cell_type": "code",
   "execution_count": 759,
   "metadata": {},
   "outputs": [
    {
     "name": "stdout",
     "output_type": "stream",
     "text": [
      "length of eeg= 250\n",
      "number of exampes in data set= 910476\n",
      "training count = 25699\n",
      "testing count = 2861\n",
      "not number count= 0\n",
      "number count= [    0.     0.     0.     0.     0.     0. 14286.     0.     0. 14286.\n",
      "     0.]\n"
     ]
    }
   ],
   "source": [
    "print(\"length of eeg=\", len(eeg_floats))\n",
    "print(\"number of exampes in data set=\",len(lines))\n",
    "print(\"training count =\", len(x_train))\n",
    "print(\"testing count =\", len(x_test))\n",
    "print(\"not number count=\", not_number_count)\n",
    "print(\"number count=\", number_count)"
   ]
  },
  {
   "cell_type": "code",
   "execution_count": 760,
   "metadata": {},
   "outputs": [],
   "source": [
    "xxx_train = np.array(x_train)\n",
    "y_train = np.array(y_train)\n",
    "\n",
    "xxx_test = np.array(x_test)\n",
    "y_test = np.array(y_test)"
   ]
  },
  {
   "cell_type": "code",
   "execution_count": null,
   "metadata": {},
   "outputs": [],
   "source": []
  },
  {
   "cell_type": "markdown",
   "metadata": {},
   "source": [
    "Run the following code to see the counts of each digit present in our training dataset."
   ]
  },
  {
   "cell_type": "code",
   "execution_count": 761,
   "metadata": {},
   "outputs": [
    {
     "data": {
      "text/plain": [
       "<AxesSubplot:ylabel='count'>"
      ]
     },
     "execution_count": 761,
     "metadata": {},
     "output_type": "execute_result"
    },
    {
     "data": {
      "image/png": "[encoded data removed]",
      "text/plain": [
       "<Figure size 432x288 with 1 Axes>"
      ]
     },
     "metadata": {
      "needs_background": "light"
     },
     "output_type": "display_data"
    }
   ],
   "source": [
    "sns.countplot(y_train)"
   ]
  },
  {
   "cell_type": "markdown",
   "metadata": {},
   "source": [
    "There are similar counts for each digit. This is good as the model will have enough images for each class to train the features for each class. There is no need to downsample or upweigh."
   ]
  },
  {
   "cell_type": "markdown",
   "metadata": {},
   "source": [
    "## Check for NaN Values"
   ]
  },
  {
   "cell_type": "code",
   "execution_count": 762,
   "metadata": {},
   "outputs": [
    {
     "data": {
      "text/plain": [
       "False"
      ]
     },
     "execution_count": 762,
     "metadata": {},
     "output_type": "execute_result"
    }
   ],
   "source": [
    "np.isnan(x_train).any()"
   ]
  },
  {
   "cell_type": "code",
   "execution_count": 735,
   "metadata": {},
   "outputs": [
    {
     "data": {
      "text/plain": [
       "False"
      ]
     },
     "execution_count": 735,
     "metadata": {},
     "output_type": "execute_result"
    }
   ],
   "source": [
    "np.isnan(x_test).any()"
   ]
  },
  {
   "cell_type": "markdown",
   "metadata": {},
   "source": [
    "There are no NaN values in our dataset. There is no need to preprocess the data to deal with Nan's."
   ]
  },
  {
   "cell_type": "markdown",
   "metadata": {},
   "source": [
    "## Reshaping"
   ]
  },
  {
   "cell_type": "code",
   "execution_count": 763,
   "metadata": {},
   "outputs": [],
   "source": [
    "x_train=xxx_train.reshape(xxx_train.shape[0], xxx_train.shape[1],1)\n",
    "x_test = xxx_test.reshape(xxx_test.shape[0], xxx_test.shape[1],1)"
   ]
  },
  {
   "cell_type": "code",
   "execution_count": 764,
   "metadata": {},
   "outputs": [
    {
     "data": {
      "text/plain": [
       "(25699, 250, 1)"
      ]
     },
     "execution_count": 764,
     "metadata": {},
     "output_type": "execute_result"
    }
   ],
   "source": [
    "x_train.shape"
   ]
  },
  {
   "cell_type": "code",
   "execution_count": 765,
   "metadata": {},
   "outputs": [
    {
     "name": "stdout",
     "output_type": "stream",
     "text": [
      "(25699, 250, 1)\n",
      "(25699,)\n"
     ]
    }
   ],
   "source": [
    "input_shape=x_train.shape\n",
    "print(input_shape)\n",
    "output_shape=y_train.shape\n",
    "print(output_shape)"
   ]
  },
  {
   "cell_type": "markdown",
   "metadata": {},
   "source": [
    "## Label Encoding\n",
    "\n",
    "The labels for the training and the testing dataset are categorical. So, convert labels to one-hot encodings.\n",
    "\n",
    "E.g., ```2``` is ```[0,0,1,0,0,0,0,0,0,0]``` and ```7``` is ```[0,0,0,0,0,0,0,1,0,0]```.\n",
    "\n",
    "Next, transform the labels to one-hot encodings."
   ]
  },
  {
   "cell_type": "code",
   "execution_count": 767,
   "metadata": {},
   "outputs": [],
   "source": [
    "y_train = tf.one_hot(y_train.astype(np.int32), depth=10)\n",
    "y_test = tf.one_hot(y_test.astype(np.int32), depth=10)"
   ]
  },
  {
   "cell_type": "markdown",
   "metadata": {},
   "source": [
    "# CNN"
   ]
  },
  {
   "cell_type": "markdown",
   "metadata": {},
   "source": [
    "## Define the Model\n",
    "\n",
    "Define ```batch_size```, ```num_classes```, and ```epochs```."
   ]
  },
  {
   "cell_type": "code",
   "execution_count": 769,
   "metadata": {},
   "outputs": [],
   "source": [
    "batch_size = 64\n",
    "num_classes = 10\n",
    "epochs = 50"
   ]
  },
  {
   "cell_type": "markdown",
   "metadata": {},
   "source": [
    "MaxPool1D is a downsampling filter. The filter aims to conserve the main features of the image while reducing the size.\n",
    "\n",
    "Dropout is a regularization layer. A % of the nodes in the layer are randomly ignored.\n",
    "\n",
    "```relu``` is the rectifier, it returns the input value if the input value >= 0, else it returns 0.\n",
    "\n",
    "Flatten converts the tensors into a 1D vector.\n",
    "\n",
    "The Dense layers are an artificial neural network (ANN). Last layer returns the probability that an EEG signal is in each class.\n",
    "\n",
    "This model aims to categorize the EEG signals, and the uses ```categorical_crossentropy``` loss function. \n",
    "\n",
    "Two model variants are shown below."
   ]
  },
  {
   "cell_type": "code",
   "execution_count": 770,
   "metadata": {},
   "outputs": [],
   "source": [
    "model1 = tf.keras.models.Sequential([\n",
    "\n",
    "    tf.keras.layers.Conv1D(32, 25, padding='same', activation='relu', input_shape=(250,1)),\n",
    "    tf.keras.layers.Conv1D(32, 25, padding='same', activation='relu'),\n",
    "    tf.keras.layers.MaxPool1D(),\n",
    "    tf.keras.layers.Dropout(0.25),\n",
    "    tf.keras.layers.Conv1D(64, 9, padding='same', activation='relu'),\n",
    "    tf.keras.layers.Conv1D(64, 9, padding='same', activation='relu'),\n",
    "    tf.keras.layers.MaxPool1D(strides=(2)),\n",
    "    tf.keras.layers.Dropout(0.25),\n",
    "    tf.keras.layers.Flatten(),\n",
    "    tf.keras.layers.Dense(128, activation='relu'),\n",
    "    tf.keras.layers.Dropout(0.5),\n",
    "    tf.keras.layers.Dense(num_classes, activation='softmax')\n",
    "])"
   ]
  },
  {
   "cell_type": "code",
   "execution_count": 771,
   "metadata": {},
   "outputs": [],
   "source": [
    "model2 = tf.keras.models.Sequential([\n",
    "\n",
    "    tf.keras.layers.Conv1D(32, 16, padding='same', activation='relu', input_shape=(250,1)),\n",
    "    #tf.keras.layers.Conv1D(64, 16, padding='same', activation='relu'),\n",
    "    tf.keras.layers.MaxPool1D(),\n",
    "    tf.keras.layers.Dropout(0.25),\n",
    "    tf.keras.layers.Conv1D(32, 8, padding='same', activation='relu'),\n",
    "    #tf.keras.layers.Conv1D(64, 8, padding='same', activation='relu'),\n",
    "    tf.keras.layers.MaxPool1D(strides=(1)),\n",
    "    tf.keras.layers.Dropout(0.25),\n",
    "    tf.keras.layers.Flatten(),\n",
    "    tf.keras.layers.Dense(32, activation='relu'),\n",
    "    tf.keras.layers.Dropout(0.25),\n",
    "    tf.keras.layers.Dense(num_classes, activation='softmax')\n",
    "])"
   ]
  },
  {
   "cell_type": "code",
   "execution_count": 772,
   "metadata": {},
   "outputs": [],
   "source": [
    "# use model1\n",
    "\n",
    "model = model1\n",
    "\n",
    "model.compile(optimizer=tf.keras.optimizers.RMSprop(epsilon=1e-08), loss='categorical_crossentropy', metrics=['acc'])"
   ]
  },
  {
   "cell_type": "markdown",
   "metadata": {},
   "source": [
    "## Fit the Training Data\n",
    "\n",
    "Stop train after n epochs or training accuracy > threshold.\n",
    "\n",
    "Next cell defines a CallBack. If xx.x% accuracy is achieved, the model stops training. "
   ]
  },
  {
   "cell_type": "code",
   "execution_count": 750,
   "metadata": {},
   "outputs": [],
   "source": [
    "class myCallback(tf.keras.callbacks.Callback):\n",
    "  def on_epoch_end(self, epoch, logs={}):\n",
    "    if(logs.get('acc')> 0.95): #0.995):\n",
    "      print(\"\\nReached xx% accuracy so cancelling training!\")\n",
    "      self.model.stop_training = True\n",
    "\n",
    "callbacks = myCallback()"
   ]
  },
  {
   "cell_type": "code",
   "execution_count": 775,
   "metadata": {},
   "outputs": [],
   "source": [
    "# history = model.fit(x_train, y_train,\n",
    "#                     batch_size=batch_size,\n",
    "#                     epochs=epochs,\n",
    "#                     validation_split=0.1,\n",
    "#                     callbacks=[callbacks])"
   ]
  },
  {
   "cell_type": "markdown",
   "metadata": {},
   "source": [
    "# 4. Evaluate the Model"
   ]
  },
  {
   "cell_type": "markdown",
   "metadata": {},
   "source": [
    "## 4.1 Loss and Accuracy Curves\n",
    "\n",
    "Run the following cell to evaluate the loss and accuracy of our model."
   ]
  },
  {
   "cell_type": "code",
   "execution_count": 776,
   "metadata": {},
   "outputs": [
    {
     "data": {
      "image/png": "[encoded data removed]",
      "text/plain": [
       "<Figure size 432x288 with 1 Axes>"
      ]
     },
     "metadata": {
      "needs_background": "light"
     },
     "output_type": "display_data"
    }
   ],
   "source": [
    "fig, ax = plt.subplots(1,1)\n",
    "# ax[0].plot(history.history['loss'], color='b', label=\"Training Loss\")\n",
    "# ax[0].plot(history.history['val_loss'], color='r', label=\"Validation Loss\",axes =ax[0])\n",
    "# legend = ax[0].legend(loc='best', shadow=True)\n",
    "\n",
    "ax.plot(history.history['acc'], color='b', label=\"Training Accuracy\")\n",
    "ax.plot(history.history['val_acc'], color='r',label=\"Validation Accuracy\")\n",
    "legend = ax.legend(loc='best', shadow=True)"
   ]
  },
  {
   "cell_type": "markdown",
   "metadata": {},
   "source": [
    "## Predict Results"
   ]
  },
  {
   "cell_type": "code",
   "execution_count": 753,
   "metadata": {},
   "outputs": [
    {
     "name": "stdout",
     "output_type": "stream",
     "text": [
      "90/90 [==============================] - 0s 3ms/step - loss: 0.1951 - acc: 0.9303\n"
     ]
    }
   ],
   "source": [
    "test_loss, test_acc = model.evaluate(x_test, y_test)"
   ]
  },
  {
   "cell_type": "markdown",
   "metadata": {},
   "source": [
    "## Confusion Matrix"
   ]
  },
  {
   "cell_type": "code",
   "execution_count": 777,
   "metadata": {},
   "outputs": [],
   "source": [
    "# Predict the values from the test data.\n",
    "Y_pred = model.predict(x_test)\n",
    "# Convert predictions classes to one hot vectors \n",
    "Y_pred_classes = np.argmax(Y_pred,axis = 1) \n",
    "# Convert testing observations to one hot vectors\n",
    "Y_true = np.argmax(y_test,axis = 1)\n",
    "# compute the confusion matrix\n",
    "confusion_mtx = tf.math.confusion_matrix(Y_true, Y_pred_classes) "
   ]
  },
  {
   "cell_type": "code",
   "execution_count": 778,
   "metadata": {},
   "outputs": [
    {
     "data": {
      "text/plain": [
       "<AxesSubplot:>"
      ]
     },
     "execution_count": 778,
     "metadata": {},
     "output_type": "execute_result"
    },
    {
     "data": {
      "image/png": "[encoded data removed]",
      "text/plain": [
       "<Figure size 720x576 with 2 Axes>"
      ]
     },
     "metadata": {
      "needs_background": "light"
     },
     "output_type": "display_data"
    }
   ],
   "source": [
    "plt.figure(figsize=(10, 8))\n",
    "sns.heatmap(confusion_mtx, annot=True, fmt='g')"
   ]
  }
 ],
 "metadata": {
  "kernelspec": {
   "display_name": "Python 3",
   "language": "python",
   "name": "python3"
  },
  "language_info": {
   "codemirror_mode": {
    "name": "ipython",
    "version": 3
   },
   "file_extension": ".py",
   "mimetype": "text/x-python",
   "name": "python",
   "nbconvert_exporter": "python",
   "pygments_lexer": "ipython3",
   "version": "3.8.8"
  }
 },
 "nbformat": 4,
 "nbformat_minor": 4
}
