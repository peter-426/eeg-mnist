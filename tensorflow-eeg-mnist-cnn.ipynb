{
 "cells": [
  {
   "cell_type": "markdown",
   "metadata": {},
   "source": [
    "Convolutional Neural Networks using TensorFlow 2.x Keras API. \n",
    "EEG data: version 1.03 of the open database contains 1,207,293 brain signals of 2 seconds each, captured with the stimulus of seeing  a digit (from 0 to 9) and thinking about it [http://www.mindbigdata.com/opendb/].\n",
    "\n",
    "Aim: use deep learning to predict which digit.\n",
    "\n",
    "Preliminary aim: use Sequential CNN to predict EEG source optrode (this code).\n",
    "\n",
    "Change the accelerator from ```None``` to ```GPU```?"
   ]
  },
  {
   "cell_type": "code",
   "execution_count": 6,
   "metadata": {},
   "outputs": [
    {
     "name": "stdout",
     "output_type": "stream",
     "text": [
      "2.8.0\n"
     ]
    }
   ],
   "source": [
    "import tensorflow as tf\n",
    "import seaborn as sns\n",
    "import numpy as np\n",
    "import pandas as pd\n",
    "import matplotlib.pyplot as plt\n",
    "import matplotlib.image as mpimg\n",
    "\n",
    "import random\n",
    "from scipy import signal\n",
    "\n",
    "print(tf.__version__)"
   ]
  },
  {
   "cell_type": "markdown",
   "metadata": {},
   "source": [
    "# Data Preprocessing"
   ]
  },
  {
   "cell_type": "code",
   "execution_count": 7,
   "metadata": {},
   "outputs": [],
   "source": [
    "# load EEG data\n",
    "\n",
    "with open('data/EP1_01.txt') as f:\n",
    "    lines = f.readlines()"
   ]
  },
  {
   "cell_type": "code",
   "execution_count": 28,
   "metadata": {},
   "outputs": [],
   "source": [
    "x_train=[]\n",
    "y_train=[]\n",
    "\n",
    "x_test=[]\n",
    "y_test=[]\n",
    "\n",
    "notch_filter=0\n",
    "band_pass=0\n",
    "mean_center=1\n",
    "normalize=0\n",
    "\n",
    "not_number_count=0\n",
    "number_count=np.zeros(11)\n",
    "    \n",
    "optrode_to_number_dict = { 'AF3':1, 'F7':2, 'F3':3, 'FC5':4, 'T7':5, 'P7':6, 'O1':7, 'O2':8, 'P8':9, 'T8':10} \n",
    "                         # 11:“FC6”, 12:“F4”, 13:“F8”, 14:“AF4”}\n",
    "    \n",
    "num_rows=200000 # small number, e.g. 1000, for developing code, larger number for training and testing\n",
    "    \n",
    "for ii in range(0,num_rows):\n",
    "    #print(lines[0], \"\\n\")\n",
    "\n",
    "    fields = lines[ii].split(\"\\t\")\n",
    "    header = fields[0:5]\n",
    "\n",
    "    #digit= float(header[4])\n",
    "    opt = header[3]\n",
    "    \n",
    "    keys=optrode_to_number_dict.keys()\n",
    "    if opt not in keys:\n",
    "        continue\n",
    "        \n",
    "    if opt not in ['P7', 'P8']: #['T7', 'P7', 'P8', 'T8']:\n",
    "        continue\n",
    "    \n",
    "    digit = optrode_to_number_dict[opt];   # not really digit, just optrode number\n",
    "        \n",
    "    if digit < 0:\n",
    "        not_number_count += 1\n",
    "        continue\n",
    "    else:\n",
    "        number_count[int(digit)] += 1\n",
    "        \n",
    "    \n",
    "    #print(header,'\\n')\n",
    "    eeg=fields[6:]\n",
    "    eeg=eeg[0]\n",
    "        \n",
    "    eeg= np.fromstring(eeg, dtype=float, sep=',')\n",
    "    \n",
    "    if len(eeg) < 250:\n",
    "        continue\n",
    "       \n",
    "    eeg=eeg[0:250]\n",
    "    #eeg=np.around(eeg, decimals=0)\n",
    "    \n",
    "    \n",
    "    if notch_filter:    \n",
    "        samp_freq = 128       # Sample frequency (Hz)\n",
    "        notch_freq = 50.0     # Frequency to be removed from signal (Hz)\n",
    "        quality_factor = 20.0 # Quality factor\n",
    "        # Design a notch filter using signal.iirnotch\n",
    "        b_notch, a_notch = signal.iirnotch(notch_freq, quality_factor, samp_freq)\n",
    "        \n",
    "        # Compute magnitude response of the designed filter\n",
    "        freq, h = signal.freqz(b_notch, a_notch, fs=samp_freq)\n",
    "    \n",
    "        # Apply notch filter to the noisy signal using signal.filtfilt\n",
    "        eeg = signal.filtfilt(b_notch, a_notch, eeg)\n",
    "        \n",
    "    if band_pass:\n",
    "        fs=128\n",
    "        lo_fc = 3  # Cut-off frequency of the filter\n",
    "        hi_fc = 30\n",
    "        lo_w = lo_fc / (fs/2) # Normalize the frequency by the Nyquist frequency\n",
    "        hi_w = hi_fc / (fs/2)\n",
    "        b, a = signal.butter(2, [lo_w, hi_w], 'band', analog=False)\n",
    "        eeg = signal.filtfilt(b, a, eeg)        \n",
    "    if mean_center:\n",
    "        eeg = eeg - (sum(eeg)/len(eeg))\n",
    "    if normalize:\n",
    "        eeg=np.mean(eeg)/np.std(eeg)\n",
    "\n",
    "    \n",
    "    if random.random() < 0.90:\n",
    "        x_train.append(eeg)\n",
    "        y_train.append(int(digit))\n",
    "    else:\n",
    "        x_test.append(eeg)\n",
    "#         one_hot = np.zeros(10)  # done below\n",
    "#         one_hot[int(digit)]=1\n",
    "        y_test.append(int(digit))  "
   ]
  },
  {
   "cell_type": "code",
   "execution_count": 29,
   "metadata": {},
   "outputs": [],
   "source": [
    "# keys=optrode_to_number_dict.keys()\n",
    "# 'P7' in keys"
   ]
  },
  {
   "cell_type": "code",
   "execution_count": 30,
   "metadata": {
    "scrolled": true
   },
   "outputs": [
    {
     "name": "stdout",
     "output_type": "stream",
     "text": [
      "length of eeg= 250\n",
      "number of exampes in data set= 910476\n",
      "training count = 25722\n",
      "testing count = 2838\n",
      "not number count= 0\n",
      "number count= [    0.     0.     0.     0.     0.     0. 14286.     0.     0. 14286.\n",
      "     0.]\n"
     ]
    }
   ],
   "source": [
    "print(\"length of eeg=\", len(eeg))\n",
    "print(\"number of exampes in data set=\",len(lines))\n",
    "print(\"training count =\", len(x_train))\n",
    "print(\"testing count =\", len(x_test))\n",
    "print(\"not number count=\", not_number_count)\n",
    "print(\"number count=\", number_count)"
   ]
  },
  {
   "cell_type": "code",
   "execution_count": 31,
   "metadata": {},
   "outputs": [],
   "source": [
    "xxx_train = np.array(x_train)\n",
    "y_train = np.array(y_train)\n",
    "\n",
    "xxx_test = np.array(x_test)\n",
    "y_test = np.array(y_test)"
   ]
  },
  {
   "cell_type": "markdown",
   "metadata": {},
   "source": [
    "Counts of each class present in this training dataset."
   ]
  },
  {
   "cell_type": "code",
   "execution_count": 32,
   "metadata": {},
   "outputs": [
    {
     "data": {
      "text/plain": [
       "<AxesSubplot:ylabel='count'>"
      ]
     },
     "execution_count": 32,
     "metadata": {},
     "output_type": "execute_result"
    },
    {
     "data": {
      "image/png": "[encoded data removed]",
      "text/plain": [
       "<Figure size 432x288 with 1 Axes>"
      ]
     },
     "metadata": {
      "needs_background": "light"
     },
     "output_type": "display_data"
    }
   ],
   "source": [
    "sns.countplot(y_train)"
   ]
  },
  {
   "cell_type": "markdown",
   "metadata": {},
   "source": [
    "There are similar counts for each digit. This is good as the model will have enough images for each class to train the features for each class. There is no need to downsample or upweigh."
   ]
  },
  {
   "cell_type": "markdown",
   "metadata": {},
   "source": [
    "## Check for NaN Values"
   ]
  },
  {
   "cell_type": "code",
   "execution_count": 33,
   "metadata": {},
   "outputs": [
    {
     "name": "stdout",
     "output_type": "stream",
     "text": [
      "False\n",
      "False\n"
     ]
    }
   ],
   "source": [
    "print(np.isnan(x_train).any())\n",
    "print(np.isnan(x_test).any())"
   ]
  },
  {
   "cell_type": "markdown",
   "metadata": {},
   "source": [
    "## Reshaping"
   ]
  },
  {
   "cell_type": "code",
   "execution_count": 34,
   "metadata": {},
   "outputs": [],
   "source": [
    "x_train=xxx_train.reshape(xxx_train.shape[0], xxx_train.shape[1],1)\n",
    "x_test = xxx_test.reshape(xxx_test.shape[0], xxx_test.shape[1],1)"
   ]
  },
  {
   "cell_type": "code",
   "execution_count": 35,
   "metadata": {},
   "outputs": [
    {
     "data": {
      "text/plain": [
       "(25722, 250, 1)"
      ]
     },
     "execution_count": 35,
     "metadata": {},
     "output_type": "execute_result"
    }
   ],
   "source": [
    "x_train.shape"
   ]
  },
  {
   "cell_type": "code",
   "execution_count": 36,
   "metadata": {},
   "outputs": [
    {
     "name": "stdout",
     "output_type": "stream",
     "text": [
      "(25722, 250, 1)\n",
      "(25722,)\n"
     ]
    }
   ],
   "source": [
    "input_shape=x_train.shape\n",
    "print(input_shape)\n",
    "output_shape=y_train.shape\n",
    "print(output_shape)"
   ]
  },
  {
   "cell_type": "markdown",
   "metadata": {},
   "source": [
    "## Label Encoding\n",
    "\n",
    "Convert categorical labels to one-hot encodings.\n",
    "\n",
    "E.g., ```2``` is ```[0,0,1,0,0,0,0,0,0,0]``` and ```7``` is ```[0,0,0,0,0,0,0,1,0,0]```."
   ]
  },
  {
   "cell_type": "code",
   "execution_count": 37,
   "metadata": {},
   "outputs": [],
   "source": [
    "y_train = tf.one_hot(y_train.astype(np.int32), depth=10)\n",
    "y_test = tf.one_hot(y_test.astype(np.int32), depth=10)"
   ]
  },
  {
   "cell_type": "markdown",
   "metadata": {},
   "source": [
    "# CNN"
   ]
  },
  {
   "cell_type": "markdown",
   "metadata": {},
   "source": [
    "## Define the Model"
   ]
  },
  {
   "cell_type": "code",
   "execution_count": 38,
   "metadata": {},
   "outputs": [],
   "source": [
    "batch_size = 64\n",
    "num_classes = 10\n",
    "epochs = 50"
   ]
  },
  {
   "cell_type": "markdown",
   "metadata": {},
   "source": [
    "The MaxPool1D filter aims to conserve the main features of the image while reducing the size.\n",
    "\n",
    "Dropout layers: a percent of random nodes are ignored.\n",
    "\n",
    "```relu``` returns input value if the input value >= 0, else it returns 0.\n",
    "\n",
    "Flatten converts the tensors into a 1D vector.\n",
    "\n",
    "The Dense layers are an ANN. Last layer outputs the probability that an EEG signal is in each class.\n",
    "\n",
    "These models aims to categorize EEG signals, so it uses ```categorical_crossentropy``` loss function. "
   ]
  },
  {
   "cell_type": "code",
   "execution_count": 39,
   "metadata": {},
   "outputs": [],
   "source": [
    "model1 = tf.keras.models.Sequential([\n",
    "\n",
    "    tf.keras.layers.Conv1D(32, 25, padding='same', activation='relu', input_shape=(250,1)),\n",
    "    tf.keras.layers.Conv1D(32, 25, padding='same', activation='relu'),\n",
    "    tf.keras.layers.MaxPool1D(),\n",
    "    tf.keras.layers.Dropout(0.25),\n",
    "    tf.keras.layers.Conv1D(64, 9, padding='same', activation='relu'),\n",
    "    tf.keras.layers.Conv1D(64, 9, padding='same', activation='relu'),\n",
    "    tf.keras.layers.MaxPool1D(strides=(2)),\n",
    "    tf.keras.layers.Dropout(0.25),\n",
    "    tf.keras.layers.Flatten(),\n",
    "    tf.keras.layers.Dense(128, activation='relu'),\n",
    "    tf.keras.layers.Dropout(0.5),\n",
    "    tf.keras.layers.Dense(num_classes, activation='softmax')\n",
    "])"
   ]
  },
  {
   "cell_type": "code",
   "execution_count": 40,
   "metadata": {},
   "outputs": [],
   "source": [
    "model2 = tf.keras.models.Sequential([\n",
    "\n",
    "    tf.keras.layers.Conv1D(32, 16, padding='same', activation='relu', input_shape=(250,1)),\n",
    "    #tf.keras.layers.Conv1D(64, 16, padding='same', activation='relu'),\n",
    "    tf.keras.layers.MaxPool1D(),\n",
    "    tf.keras.layers.Dropout(0.25),\n",
    "    tf.keras.layers.Conv1D(32, 8, padding='same', activation='relu'),\n",
    "    #tf.keras.layers.Conv1D(64, 8, padding='same', activation='relu'),\n",
    "    tf.keras.layers.MaxPool1D(strides=(1)),\n",
    "    tf.keras.layers.Dropout(0.25),\n",
    "    tf.keras.layers.Flatten(),\n",
    "    tf.keras.layers.Dense(32, activation='relu'),\n",
    "    tf.keras.layers.Dropout(0.25),\n",
    "    tf.keras.layers.Dense(num_classes, activation='softmax')\n",
    "])"
   ]
  },
  {
   "cell_type": "code",
   "execution_count": 41,
   "metadata": {},
   "outputs": [],
   "source": [
    "# use model1\n",
    "\n",
    "model = model1\n",
    "\n",
    "model.compile(optimizer=tf.keras.optimizers.RMSprop(epsilon=1e-08), loss='categorical_crossentropy', metrics=['acc'])"
   ]
  },
  {
   "cell_type": "markdown",
   "metadata": {},
   "source": [
    "## Fit the Training Data\n",
    "\n",
    "Stop train after n epochs or training accuracy > threshold.\n",
    "\n",
    "Next cell defines a CallBack. If xx.x% accuracy is achieved, the model stops training. "
   ]
  },
  {
   "cell_type": "code",
   "execution_count": 42,
   "metadata": {},
   "outputs": [],
   "source": [
    "class myCallback(tf.keras.callbacks.Callback):\n",
    "  def on_epoch_end(self, epoch, logs={}):\n",
    "    if(logs.get('acc')> 0.95): #0.995):\n",
    "      print(\"\\nReached xx% accuracy so cancelling training!\")\n",
    "      self.model.stop_training = True\n",
    "\n",
    "callbacks = myCallback()"
   ]
  },
  {
   "cell_type": "code",
   "execution_count": 43,
   "metadata": {},
   "outputs": [
    {
     "name": "stdout",
     "output_type": "stream",
     "text": [
      "Epoch 1/50\n",
      "362/362 [==============================] - 13s 33ms/step - loss: 0.6452 - acc: 0.6746 - val_loss: 0.6494 - val_acc: 0.6358\n",
      "Epoch 2/50\n",
      "362/362 [==============================] - 12s 34ms/step - loss: 0.4115 - acc: 0.8387 - val_loss: 0.5729 - val_acc: 0.7575\n",
      "Epoch 3/50\n",
      "362/362 [==============================] - 12s 34ms/step - loss: 0.3455 - acc: 0.8663 - val_loss: 0.7882 - val_acc: 0.7143\n",
      "Epoch 4/50\n",
      "362/362 [==============================] - 13s 35ms/step - loss: 0.3149 - acc: 0.8825 - val_loss: 0.9959 - val_acc: 0.6518\n",
      "Epoch 5/50\n",
      "362/362 [==============================] - 13s 35ms/step - loss: 0.2948 - acc: 0.8885 - val_loss: 1.3923 - val_acc: 0.6421\n",
      "Epoch 6/50\n",
      "362/362 [==============================] - 12s 33ms/step - loss: 0.2831 - acc: 0.8900 - val_loss: 0.9480 - val_acc: 0.6584\n",
      "Epoch 7/50\n",
      "362/362 [==============================] - 12s 34ms/step - loss: 0.2658 - acc: 0.8983 - val_loss: 0.5966 - val_acc: 0.7703\n",
      "Epoch 8/50\n",
      "362/362 [==============================] - 12s 34ms/step - loss: 0.2587 - acc: 0.8996 - val_loss: 0.6768 - val_acc: 0.7373\n",
      "Epoch 9/50\n",
      "362/362 [==============================] - 12s 34ms/step - loss: 0.2474 - acc: 0.9056 - val_loss: 0.3120 - val_acc: 0.8791\n",
      "Epoch 10/50\n",
      "362/362 [==============================] - 12s 34ms/step - loss: 0.2456 - acc: 0.9101 - val_loss: 0.8304 - val_acc: 0.6875\n",
      "Epoch 11/50\n",
      "362/362 [==============================] - 12s 34ms/step - loss: 0.2369 - acc: 0.9156 - val_loss: 0.4076 - val_acc: 0.8546\n",
      "Epoch 12/50\n",
      "362/362 [==============================] - 12s 34ms/step - loss: 0.2198 - acc: 0.9146 - val_loss: 0.3681 - val_acc: 0.8574\n",
      "Epoch 13/50\n",
      "362/362 [==============================] - 12s 34ms/step - loss: 0.2310 - acc: 0.9190 - val_loss: 0.2786 - val_acc: 0.8966\n",
      "Epoch 14/50\n",
      "362/362 [==============================] - 12s 34ms/step - loss: 0.2068 - acc: 0.9195 - val_loss: 0.3227 - val_acc: 0.8826\n",
      "Epoch 15/50\n",
      "362/362 [==============================] - 12s 34ms/step - loss: 0.2079 - acc: 0.9222 - val_loss: 0.2455 - val_acc: 0.9036\n",
      "Epoch 16/50\n",
      "362/362 [==============================] - 12s 34ms/step - loss: 0.2087 - acc: 0.9209 - val_loss: 0.3923 - val_acc: 0.8395\n",
      "Epoch 17/50\n",
      "362/362 [==============================] - 12s 34ms/step - loss: 0.2033 - acc: 0.9232 - val_loss: 0.3010 - val_acc: 0.8873\n",
      "Epoch 18/50\n",
      "362/362 [==============================] - 12s 34ms/step - loss: 0.2061 - acc: 0.9237 - val_loss: 0.2317 - val_acc: 0.9149\n",
      "Epoch 19/50\n",
      "362/362 [==============================] - 12s 34ms/step - loss: 0.8531 - acc: 0.9235 - val_loss: 0.3819 - val_acc: 0.8543\n",
      "Epoch 20/50\n",
      "362/362 [==============================] - 12s 34ms/step - loss: 0.2008 - acc: 0.9218 - val_loss: 0.2401 - val_acc: 0.9141\n",
      "Epoch 21/50\n",
      "362/362 [==============================] - 12s 34ms/step - loss: 0.2000 - acc: 0.9242 - val_loss: 0.2720 - val_acc: 0.9021\n",
      "Epoch 22/50\n",
      "362/362 [==============================] - 12s 34ms/step - loss: 0.2172 - acc: 0.9219 - val_loss: 0.2230 - val_acc: 0.9157\n",
      "Epoch 23/50\n",
      "362/362 [==============================] - 12s 34ms/step - loss: 0.2194 - acc: 0.9248 - val_loss: 0.2693 - val_acc: 0.9083\n",
      "Epoch 24/50\n",
      "362/362 [==============================] - 12s 34ms/step - loss: 0.2125 - acc: 0.9244 - val_loss: 0.2754 - val_acc: 0.8869\n",
      "Epoch 25/50\n",
      "362/362 [==============================] - 12s 34ms/step - loss: 0.2446 - acc: 0.9224 - val_loss: 0.2889 - val_acc: 0.9032\n",
      "Epoch 26/50\n",
      "362/362 [==============================] - 12s 34ms/step - loss: 0.2187 - acc: 0.9225 - val_loss: 0.2358 - val_acc: 0.9207\n",
      "Epoch 27/50\n",
      "362/362 [==============================] - 12s 34ms/step - loss: 2.0957 - acc: 0.9241 - val_loss: 0.2981 - val_acc: 0.8900\n",
      "Epoch 28/50\n",
      "362/362 [==============================] - 12s 34ms/step - loss: 0.6107 - acc: 0.9209 - val_loss: 0.2525 - val_acc: 0.9098\n",
      "Epoch 29/50\n",
      "362/362 [==============================] - 12s 34ms/step - loss: 0.2260 - acc: 0.9208 - val_loss: 0.2491 - val_acc: 0.9059\n",
      "Epoch 30/50\n",
      "362/362 [==============================] - 12s 34ms/step - loss: 0.2052 - acc: 0.9245 - val_loss: 0.2746 - val_acc: 0.8955\n",
      "Epoch 31/50\n",
      "362/362 [==============================] - 12s 33ms/step - loss: 0.2021 - acc: 0.9236 - val_loss: 0.2334 - val_acc: 0.9227\n",
      "Epoch 32/50\n",
      "362/362 [==============================] - 12s 33ms/step - loss: 0.3856 - acc: 0.9223 - val_loss: 0.2588 - val_acc: 0.8997\n",
      "Epoch 33/50\n",
      "362/362 [==============================] - 12s 34ms/step - loss: 0.2195 - acc: 0.9222 - val_loss: 0.2241 - val_acc: 0.9192\n",
      "Epoch 34/50\n",
      "362/362 [==============================] - 12s 34ms/step - loss: 0.2322 - acc: 0.9222 - val_loss: 0.2662 - val_acc: 0.8927\n",
      "Epoch 35/50\n",
      "362/362 [==============================] - 12s 34ms/step - loss: 6.5372 - acc: 0.9202 - val_loss: 0.2355 - val_acc: 0.9153\n",
      "Epoch 36/50\n",
      "362/362 [==============================] - 12s 33ms/step - loss: 1.1022 - acc: 0.9185 - val_loss: 0.2371 - val_acc: 0.9129\n",
      "Epoch 37/50\n",
      "362/362 [==============================] - 12s 33ms/step - loss: 0.2205 - acc: 0.9200 - val_loss: 0.2409 - val_acc: 0.9254\n",
      "Epoch 38/50\n",
      "362/362 [==============================] - 12s 34ms/step - loss: 0.2408 - acc: 0.9193 - val_loss: 0.2692 - val_acc: 0.9009\n",
      "Epoch 39/50\n",
      "362/362 [==============================] - 12s 34ms/step - loss: 0.2180 - acc: 0.9221 - val_loss: 0.3022 - val_acc: 0.8962\n",
      "Epoch 40/50\n",
      "362/362 [==============================] - 12s 33ms/step - loss: 0.2129 - acc: 0.9200 - val_loss: 0.2881 - val_acc: 0.8865\n",
      "Epoch 41/50\n",
      "362/362 [==============================] - 12s 33ms/step - loss: 0.2512 - acc: 0.9184 - val_loss: 0.2304 - val_acc: 0.9157\n",
      "Epoch 42/50\n",
      "362/362 [==============================] - 12s 33ms/step - loss: 0.5745 - acc: 0.9182 - val_loss: 0.2816 - val_acc: 0.8865\n",
      "Epoch 43/50\n",
      "362/362 [==============================] - 12s 33ms/step - loss: 1.2240 - acc: 0.9189 - val_loss: 0.2702 - val_acc: 0.8904\n",
      "Epoch 44/50\n",
      "362/362 [==============================] - 12s 34ms/step - loss: 0.2353 - acc: 0.9201 - val_loss: 0.2456 - val_acc: 0.9137\n",
      "Epoch 45/50\n",
      "362/362 [==============================] - 12s 33ms/step - loss: 0.2423 - acc: 0.9191 - val_loss: 0.2527 - val_acc: 0.9172\n",
      "Epoch 46/50\n",
      "362/362 [==============================] - 12s 33ms/step - loss: 1.6855 - acc: 0.9173 - val_loss: 0.2370 - val_acc: 0.9164\n",
      "Epoch 47/50\n",
      "362/362 [==============================] - 12s 33ms/step - loss: 0.2183 - acc: 0.9244 - val_loss: 0.2287 - val_acc: 0.9211\n",
      "Epoch 48/50\n",
      "362/362 [==============================] - 12s 34ms/step - loss: 0.2328 - acc: 0.9196 - val_loss: 0.2655 - val_acc: 0.9098\n",
      "Epoch 49/50\n",
      "362/362 [==============================] - 12s 34ms/step - loss: 0.2741 - acc: 0.9203 - val_loss: 0.2554 - val_acc: 0.9005\n",
      "Epoch 50/50\n",
      "362/362 [==============================] - 12s 34ms/step - loss: 0.2290 - acc: 0.9203 - val_loss: 0.2825 - val_acc: 0.9001\n"
     ]
    }
   ],
   "source": [
    "history = model.fit(x_train, y_train,\n",
    "                    batch_size=batch_size,\n",
    "                    epochs=epochs,\n",
    "                    validation_split=0.1,\n",
    "                    callbacks=[callbacks])"
   ]
  },
  {
   "cell_type": "markdown",
   "metadata": {},
   "source": [
    "# 4. Evaluate the Model"
   ]
  },
  {
   "cell_type": "markdown",
   "metadata": {},
   "source": [
    "## Accuracy Curve"
   ]
  },
  {
   "cell_type": "code",
   "execution_count": 47,
   "metadata": {},
   "outputs": [
    {
     "data": {
      "image/png": "[encoded data removed]",
      "text/plain": [
       "<Figure size 432x288 with 1 Axes>"
      ]
     },
     "metadata": {
      "needs_background": "light"
     },
     "output_type": "display_data"
    }
   ],
   "source": [
    "fig, ax = plt.subplots(1,1)\n",
    "# ax[0].plot(history.history['loss'], color='b', label=\"Training Loss\")\n",
    "# ax[0].plot(history.history['val_loss'], color='r', label=\"Validation Loss\",axes =ax[0])\n",
    "# legend = ax[0].legend(loc='best', shadow=True)\n",
    "\n",
    "ax.plot(history.history['acc'], color='b', label=\"Training Accuracy\")\n",
    "ax.plot(history.history['val_acc'], color='r',label=\"Validation Accuracy\")\n",
    "legend = ax.legend(loc='best', shadow=True)"
   ]
  },
  {
   "cell_type": "markdown",
   "metadata": {},
   "source": [
    "## Predict Results"
   ]
  },
  {
   "cell_type": "code",
   "execution_count": 48,
   "metadata": {},
   "outputs": [
    {
     "name": "stdout",
     "output_type": "stream",
     "text": [
      "89/89 [==============================] - 0s 3ms/step - loss: 0.2194 - acc: 0.9190\n"
     ]
    }
   ],
   "source": [
    "test_loss, test_acc = model.evaluate(x_test, y_test)"
   ]
  },
  {
   "cell_type": "markdown",
   "metadata": {},
   "source": [
    "## Confusion Matrix"
   ]
  },
  {
   "cell_type": "code",
   "execution_count": 49,
   "metadata": {},
   "outputs": [],
   "source": [
    "# Predict the values from the test data.\n",
    "Y_pred = model.predict(x_test)\n",
    "# Convert predictions classes to one hot vectors \n",
    "Y_pred_classes = np.argmax(Y_pred,axis = 1) \n",
    "# Convert testing observations to one hot vectors\n",
    "Y_true = np.argmax(y_test,axis = 1)\n",
    "# compute the confusion matrix\n",
    "confusion_mtx = tf.math.confusion_matrix(Y_true, Y_pred_classes) "
   ]
  },
  {
   "cell_type": "code",
   "execution_count": 50,
   "metadata": {},
   "outputs": [
    {
     "data": {
      "text/plain": [
       "<AxesSubplot:>"
      ]
     },
     "execution_count": 50,
     "metadata": {},
     "output_type": "execute_result"
    },
    {
     "data": {
      "image/png": "[encoded data removed]",
      "text/plain": [
       "<Figure size 720x576 with 2 Axes>"
      ]
     },
     "metadata": {
      "needs_background": "light"
     },
     "output_type": "display_data"
    }
   ],
   "source": [
    "plt.figure(figsize=(10, 8))\n",
    "sns.heatmap(confusion_mtx, annot=True, fmt='g')"
   ]
  },
  {
   "cell_type": "code",
   "execution_count": null,
   "metadata": {},
   "outputs": [],
   "source": []
  }
 ],
 "metadata": {
  "kernelspec": {
   "display_name": "Python 3",
   "language": "python",
   "name": "python3"
  },
  "language_info": {
   "codemirror_mode": {
    "name": "ipython",
    "version": 3
   },
   "file_extension": ".py",
   "mimetype": "text/x-python",
   "name": "python",
   "nbconvert_exporter": "python",
   "pygments_lexer": "ipython3",
   "version": "3.8.8"
  }
 },
 "nbformat": 4,
 "nbformat_minor": 4
}
