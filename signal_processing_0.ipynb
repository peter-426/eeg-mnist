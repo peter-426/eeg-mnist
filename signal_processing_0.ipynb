{
 "cells": [
  {
   "cell_type": "code",
   "execution_count": 1,
   "id": "nominated-officer",
   "metadata": {},
   "outputs": [],
   "source": [
    "## signal processing 0\n"
   ]
  },
  {
   "cell_type": "code",
   "execution_count": null,
   "id": "metric-freeware",
   "metadata": {},
   "outputs": [],
   "source": [
    "from matplotlib.pyplot import specgram\n",
    "\n",
    "# https://matplotlib.org/stable/api/_as_gen/matplotlib.pyplot.specgram.html\n",
    "# https://matplotlib.org/stable/gallery/images_contours_and_fields/specgram_demo.html\n",
    "\n",
    "y=x_train[1].flatten()\n",
    "print(y.shape)  # (250.)\n",
    "print(type(y))  \n",
    "\n",
    "plt.figure()\n",
    "plt.plot(y)\n",
    "plt.xlabel('time points')\n",
    "\n",
    "##############################\n",
    "plt.figure()\n",
    "\n",
    "Nfft=32 # The number of data points used in each block for the FFT. A power 2 is most efficient.\n",
    "        # It's the length of the windowing segments\n",
    "        # smaller gives greater time resolution,...\n",
    "\n",
    "powerSpectrum, freqenciesFound, time, imageAxis = specgram(y, NFFT=Nfft, Fs=128, noverlap=0) #Nfft/2)\n",
    "# noverlap: number of points overlap\n",
    "plt.xlabel('time (s)')\n"
   ]
  },
  {
   "cell_type": "code",
   "execution_count": null,
   "id": "flush-citizenship",
   "metadata": {},
   "outputs": [],
   "source": [
    "# https://matplotlib.org/stable/api/_as_gen/matplotlib.pyplot.specgram.html\n",
    "# https://matplotlib.org/stable/gallery/images_contours_and_fields/specgram_demo.html\n",
    "\n",
    "import math\n",
    "import numpy as np\n",
    "import matplotlib.pyplot as plt \n",
    "\n",
    "# make data\n",
    "dt=0.0001\n",
    "w=2\n",
    "t=np.linspace(0,5,math.ceil(5/dt))\n",
    "A=20*(np.sin(3 * np.pi * t))\n",
    "\n",
    "# or use EEG data\n",
    "y=x_train[1].flatten()\n",
    "#print(y.shape)  # (250.)\n",
    "#print(type(y))  \n",
    "\n",
    "plt.figure()\n",
    "plt.plot(y)\n",
    "plt.xlabel('time points')\n",
    "\n",
    "plt.figure()\n",
    "A=np.concatenate((y,y))   # y is EEG data, Fs 128 Hz, about 250 points long\n",
    "\n",
    "Nfft=32   # <<<===\n",
    "\n",
    "plt.specgram(A,  NFFT=Nfft, Fs=128, noverlap=16)\n",
    "plt.title('Spectrogram Using matplotlib.pyplot.specgram() method')  \n",
    "plt.show() "
   ]
  },
  {
   "cell_type": "code",
   "execution_count": null,
   "id": "caring-emergency",
   "metadata": {},
   "outputs": [],
   "source": [
    "import math\n",
    "import numpy as np\n",
    "import matplotlib.pyplot as plt \n",
    "from scipy import signal\n",
    "\n",
    "dt=0.001\n",
    "w=2\n",
    "t=np.linspace(0,25,math.ceil(25/dt))\n",
    "A=w*(np.sin(1 * np.pi *300* t))\n",
    "\n",
    "\n",
    "A=y # using EEG data from above, 250 time points, 128Hz\n",
    "\n",
    "Nfft=16   # must be >= nperseg (has high default value, I think), can try different NFFTs and nperseg, etc\n",
    "Nperseg=16\n",
    "\n",
    "f, t, Sxx = signal.spectrogram(A,  nperseg=Nperseg, nfft=Nfft, fs=128, noverlap=8)\n",
    "plt.pcolormesh(t, f, Sxx, shading='auto')\n",
    "plt.ylabel('Frequency')\n",
    "plt.xlabel('Time')\n",
    "plt.title('Spectrogram Using scipy.signal.spectrogram() method')  \n",
    "plt.show()"
   ]
  },
  {
   "cell_type": "code",
   "execution_count": null,
   "id": "devoted-allocation",
   "metadata": {},
   "outputs": [],
   "source": [
    "print(f.shape)\n",
    "print(t.shape)\n",
    "print(Sxx.shape)"
   ]
  }
 ],
 "metadata": {
  "kernelspec": {
   "display_name": "Python 3",
   "language": "python",
   "name": "python3"
  },
  "language_info": {
   "codemirror_mode": {
    "name": "ipython",
    "version": 3
   },
   "file_extension": ".py",
   "mimetype": "text/x-python",
   "name": "python",
   "nbconvert_exporter": "python",
   "pygments_lexer": "ipython3",
   "version": "3.8.8"
  }
 },
 "nbformat": 4,
 "nbformat_minor": 5
}
