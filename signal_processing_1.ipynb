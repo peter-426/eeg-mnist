{
 "cells": [
  {
   "cell_type": "markdown",
   "id": "civilian-growing",
   "metadata": {},
   "source": [
    "\n",
    "# scipy.signal.spectrogram:\n",
    "works by splitting the signal into (partially overlapping) segments of time, \n",
    "and then computing the power spectrum from the Fast Fourier Transform (FFT) of each segment. The \n",
    "length of these segments can be controlled using the <tt>nperseg</tt> argument, which lets you adjust the \n",
    "trade-off between resolution in the frequency and time domains that arises due to the <i>uncertainty \n",
    "principle</i>. Making <tt>nperseg</tt> larger gives you more resolution in the frequency domain at the cost of \n",
    "less resolution in the time domain.\n",
    "\n",
    "In addition to varying the number of samples that go into each segment, it's also sometimes desirable \n",
    "to apply zero-padding to each segment before taking its FFT. This is what the <tt>nfft</tt> argument is for:\n",
    "\n",
    "## nfft : int, optional\n",
    "\n",
    "    Length of the FFT used, if a zero padded FFT is desired. If None, the FFT length is nperseg. \n",
    "    Defaults to None.\n",
    "\n",
    "By default, <tt>nfft == nperseg</tt>, meaning that no zero-padding will be used.\n",
    "\n",
    "The relationship between nperseg and the number of time bins (i.e. columns) in the output array also depends on the degree of overlap between the segments. By default, <tt>noverlap = nperseg // 8</tt>, so for an input of length n you will get <tt>n // (nperseg - (nperseg // 8))</tt> time bins. The number of frequency bins will be equal to the length of the real-valued DFT of each zero-padded segment (the same size as the result of np.fft.rfft(zero_padded_segment)), which is equal to nfft // 2 + 1.\n",
    "\n",
    "If <tt>nfft</tt> is not None then it must be <tt>>= nperseg</tt>, and <tt>nfft - nperseg</tt> is the length of zero padding applied to each segment before taking the FFT. "
   ]
  },
  {
   "cell_type": "markdown",
   "id": "quantitative-litigation",
   "metadata": {},
   "source": [
    "# Examples\n",
    "\n",
    "https://pythontic.com/visualization/signals/spectrogram\n",
    "\n",
    "https://notebook.community/JoseGuzman/myIPythonNotebooks/SignalProcessing/EEG%20Spectrogram\n",
    "\n"
   ]
  },
  {
   "cell_type": "code",
   "execution_count": 18,
   "id": "legendary-melissa",
   "metadata": {},
   "outputs": [],
   "source": [
    "from scipy import signal\n",
    "import numpy as np\n",
    "import matplotlib.pyplot as plt\n",
    "import random\n",
    "import math"
   ]
  },
  {
   "cell_type": "code",
   "execution_count": 11,
   "id": "czech-accommodation",
   "metadata": {},
   "outputs": [],
   "source": [
    "x_train=[]\n",
    "y_train=[]\n",
    "\n",
    "x_test=[]\n",
    "y_test=[]\n",
    "\n",
    "notch_filter=0\n",
    "band_pass=0\n",
    "mean_center=0\n",
    "\n",
    "not_number_count=0\n",
    "number_count=np.zeros(10)\n",
    "\n",
    "with open('data/EP1_01.txt') as f:\n",
    "    lines = f.readlines()\n",
    "  \n",
    "for ii in range(0,1000):\n",
    "    #print(lines[0], \"\\n\")\n",
    "\n",
    "    fields = lines[ii].split(\"\\t\")\n",
    "    header = fields[0:5]\n",
    "\n",
    "    digit= float(header[4])\n",
    "    opt = header[3]\n",
    "    \n",
    "    if opt != 'P7':\n",
    "        continue\n",
    "        \n",
    "    if digit < 0:\n",
    "        not_number_count += 1\n",
    "        continue\n",
    "    else:\n",
    "        number_count[int(digit)] += 1\n",
    "        \n",
    "    \n",
    "    #print(header,'\\n')\n",
    "    eeg=fields[6:]\n",
    "    eeg=eeg[0]\n",
    "        \n",
    "    eeg= np.fromstring(eeg, dtype=float, sep=',')\n",
    "    \n",
    "    if len(eeg) < 250:\n",
    "        continue\n",
    "       \n",
    "    eeg=eeg[0:250]\n",
    "    #eeg=np.around(eeg, decimals=0)\n",
    "    \n",
    "    \n",
    "    if notch_filter:    \n",
    "        samp_freq = 128       # Sample frequency (Hz)\n",
    "        notch_freq = 50.0     # Frequency to be removed from signal (Hz)\n",
    "        quality_factor = 20.0 # Quality factor\n",
    "        # Design a notch filter using signal.iirnotch\n",
    "        b_notch, a_notch = signal.iirnotch(notch_freq, quality_factor, samp_freq)\n",
    "        \n",
    "        # Compute magnitude response of the designed filter\n",
    "        freq, h = signal.freqz(b_notch, a_notch, fs=samp_freq)\n",
    "    \n",
    "        # Apply notch filter to the noisy signal using signal.filtfilt\n",
    "        eeg = signal.filtfilt(b_notch, a_notch, eeg)\n",
    "        \n",
    "    if band_pass:\n",
    "        fs=128\n",
    "        lo_fc = 3  # Cut-off frequency of the filter\n",
    "        hi_fc = 30\n",
    "        lo_w = lo_fc / (fs/2) # Normalize the frequency by the Nyquist frequency\n",
    "        hi_w = hi_fc / (fs/2)\n",
    "        b, a = signal.butter(2, [lo_w, hi_w], 'band', analog=False)\n",
    "        eeg = signal.filtfilt(b, a, eeg)        \n",
    "    if mean_center:\n",
    "        eeg = eeg - (sum(eeg)/len(eeg))\n",
    "\n",
    "    \n",
    "    if random.random() < 0.80:\n",
    "        x_train.append(eeg)\n",
    "        y_train.append(int(digit))\n",
    "    else:\n",
    "        x_test.append(eeg)\n",
    "#         one_hot = np.zeros(10)  # done below\n",
    "#         one_hot[int(digit)]=1\n",
    "        y_test.append(int(digit))  "
   ]
  },
  {
   "cell_type": "code",
   "execution_count": 13,
   "id": "written-brighton",
   "metadata": {},
   "outputs": [
    {
     "name": "stdout",
     "output_type": "stream",
     "text": [
      "length of eeg= 250\n",
      "number of exampes in data set= 910476\n",
      "P7 training count = 56\n",
      "P7 testing count = 16\n",
      "not number count= 0\n",
      "number count= [ 6. 11.  7.  9.  2.  5.  7.  6. 11.  8.]\n"
     ]
    }
   ],
   "source": [
    "print(\"length of eeg=\", len(eeg))\n",
    "print(\"number of exampes in data set=\",len(lines))\n",
    "print(\"P7 training count =\", len(x_train))\n",
    "print(\"P7 testing count =\", len(x_test))\n",
    "print(\"not number count=\", not_number_count)\n",
    "print(\"number count=\", number_count)"
   ]
  },
  {
   "cell_type": "code",
   "execution_count": 14,
   "id": "centered-marketing",
   "metadata": {},
   "outputs": [],
   "source": [
    "xxx_train = np.array(x_train)\n",
    "y_train = np.array(y_train)\n",
    "\n",
    "xxx_test = np.array(x_test)\n",
    "y_test = np.array(y_test)"
   ]
  },
  {
   "cell_type": "code",
   "execution_count": 15,
   "id": "honest-roman",
   "metadata": {},
   "outputs": [],
   "source": [
    "x_train=xxx_train.reshape(xxx_train.shape[0], xxx_train.shape[1],1)\n",
    "# #x_train=x_train / 255.0\n",
    "x_test = xxx_test.reshape(xxx_test.shape[0], xxx_test.shape[1],1)\n",
    "# #x_test=x_test/255.0"
   ]
  },
  {
   "cell_type": "code",
   "execution_count": 39,
   "id": "suspended-directive",
   "metadata": {},
   "outputs": [],
   "source": [
    "y=x_train[1].flatten()\n",
    "eeg=np.concatenate((y,y,y,y))   # y is EEG data, Fs 128 Hz, only about 250 points long, so can concat\n",
    "\n",
    "eeg = eeg - np.mean(eeg)        # if don't subtract mean, get flat line Power Spectrum (below)\n"
   ]
  },
  {
   "cell_type": "markdown",
   "id": "thousand-minister",
   "metadata": {},
   "source": [
    "# Welch's periodogram"
   ]
  },
  {
   "cell_type": "code",
   "execution_count": 40,
   "id": "systematic-procurement",
   "metadata": {},
   "outputs": [
    {
     "name": "stdout",
     "output_type": "stream",
     "text": [
      "Nyquist frequency = 64.0000 Hz\n",
      "Spectral resolution = 0.1280 Hz\n"
     ]
    }
   ],
   "source": [
    "# Fourier transform\n",
    "FourierCoeff = np.fft.fft(eeg)/eeg.size\n",
    "DC = [np.abs(FourierCoeff[0])]\n",
    "amp = np.concatenate((DC, 2*np.abs(FourierCoeff[1:])))  \n",
    "\n",
    "\n",
    "sr = 128  # sampling rate\n",
    "\n",
    "# compute frequencies vector until half the sampling rate\n",
    "Nyquist = sr/2\n",
    "\n",
    "print('Nyquist frequency = %2.4f Hz'%Nyquist)\n",
    "Nsamples = int( math.floor(eeg.size/2) )\n",
    "hz = np.linspace(0, Nyquist, num = Nsamples + 1 )\n",
    "dhz = hz[1]\n",
    "print('Spectral resolution = %2.4f Hz'%hz[1])"
   ]
  },
  {
   "cell_type": "code",
   "execution_count": 41,
   "id": "infinite-water",
   "metadata": {},
   "outputs": [],
   "source": [
    "# Nyquist frequency = 512.0000 Hz\n",
    "# Spectral resolution = 0.0083 Hz"
   ]
  },
  {
   "cell_type": "code",
   "execution_count": 42,
   "id": "crucial-prompt",
   "metadata": {},
   "outputs": [
    {
     "name": "stdout",
     "output_type": "stream",
     "text": [
      "Spectral resolution = 0.2500 Hz\n"
     ]
    }
   ],
   "source": [
    "# Perform Welch's periodogram\n",
    "segment = int( 4*sr ) \n",
    "myhann = signal.get_window('hann', segment)\n",
    "\n",
    "# obtain the power (uV^2) spectrum with Hann window and 50% overlap\n",
    "myparams = dict(fs = sr, nperseg = segment, window = myhann, noverlap = segment/2, \n",
    "                scaling = 'spectrum', return_onesided = True)\n",
    "freq, ps = signal.welch(x = eeg, **myparams)# units uV**2\n",
    "ps = 2*ps\n",
    "\n",
    "# obtain the power density/Hz (uV^2) spectrum with Hann window and 50% overlap\n",
    "# to get back to simply power, divide by the segment lenght in seconds (four in our case)\n",
    "myparams2 = dict(fs = sr, nperseg = segment, window = myhann, noverlap = segment/2, \n",
    "                 scaling = 'density', return_onesided = True)\n",
    "freq, psd = signal.welch(x = eeg, **myparams2)# units uV**2/Hz\n",
    "psd = 2*psd\n",
    "\n",
    "dfreq = freq[1]\n",
    "print('Spectral resolution = %2.4f Hz'%dfreq)"
   ]
  },
  {
   "cell_type": "code",
   "execution_count": 46,
   "id": "pediatric-mississippi",
   "metadata": {},
   "outputs": [
    {
     "data": {
      "image/png": "[encoded data removed]",
      "text/plain": [
       "<Figure size 1152x288 with 2 Axes>"
      ]
     },
     "metadata": {
      "needs_background": "light"
     },
     "output_type": "display_data"
    }
   ],
   "source": [
    "# Plot the power spectrum\n",
    "\n",
    "fig, ax = plt.subplots(1, 2, figsize=(16, 4))\n",
    "\n",
    "ax[0].set_title(\"Amplitude spectrum (Fourier transform)\")\n",
    "ax[0].plot(hz,amp[:len(hz)], lw=1, color='k')#, use_line_collection = True)\n",
    "ax[0].plot(freq, np.sqrt(ps/10), color='red', lw=2) \n",
    "ax[0].set_ylabel('Amplitude ($\\mu V$)')\n",
    "\n",
    "ax[1].set_title(\"Power spectrum (Welch's periodogram)\")\n",
    "ax[1].plot(hz, np.power(amp[:len(hz)],2), color='k', lw =1)\n",
    "ax[1].plot(freq, (ps/10), color='C0', lw=2)#, use_line_collection = True)\n",
    "ax[1].set_ylabel('Power ($\\mu V^2$)')\n",
    "\n",
    "for myax in ax:\n",
    "    myax.set_xlabel('Frequency (Hz)')\n",
    "    myax.set_xlim(0,64)\n",
    "    myticks = list(range(0,64,10))\n",
    "    myax.set_xticks(myticks)\n",
    "    #myax.set_ylim(ymax=2)"
   ]
  },
  {
   "cell_type": "code",
   "execution_count": 47,
   "id": "realistic-summer",
   "metadata": {},
   "outputs": [
    {
     "data": {
      "text/plain": [
       "(1000,)"
      ]
     },
     "execution_count": 47,
     "metadata": {},
     "output_type": "execute_result"
    }
   ],
   "source": [
    "eeg.shape"
   ]
  },
  {
   "cell_type": "markdown",
   "id": "acute-parts",
   "metadata": {},
   "source": [
    "# spectrogram"
   ]
  },
  {
   "cell_type": "code",
   "execution_count": null,
   "id": "organized-concentration",
   "metadata": {},
   "outputs": [],
   "source": []
  }
 ],
 "metadata": {
  "kernelspec": {
   "display_name": "Python 3",
   "language": "python",
   "name": "python3"
  },
  "language_info": {
   "codemirror_mode": {
    "name": "ipython",
    "version": 3
   },
   "file_extension": ".py",
   "mimetype": "text/x-python",
   "name": "python",
   "nbconvert_exporter": "python",
   "pygments_lexer": "ipython3",
   "version": "3.8.8"
  }
 },
 "nbformat": 4,
 "nbformat_minor": 5
}
